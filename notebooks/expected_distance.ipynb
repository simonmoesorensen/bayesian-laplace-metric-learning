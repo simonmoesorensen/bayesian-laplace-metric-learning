{
 "cells": [
  {
   "cell_type": "code",
   "execution_count": 2,
   "metadata": {},
   "outputs": [],
   "source": [
    "import torch\n",
    "\n",
    "from pytorch_metric_learning.utils import loss_and_miner_utils as lmu\n",
    "from pytorch_metric_learning.distances.base_distance import BaseDistance\n",
    "\n",
    "\n",
    "class LpDistance(BaseDistance):\n",
    "    def __init__(self, **kwargs):\n",
    "        super().__init__(**kwargs)\n",
    "        assert not self.is_inverted\n",
    "\n",
    "    def compute_mat(self, query_emb, ref_emb):\n",
    "        dtype, device = query_emb.dtype, query_emb.device\n",
    "        if ref_emb is None:\n",
    "            ref_emb = query_emb\n",
    "        if dtype == torch.float16:  # cdist doesn't work for float16\n",
    "            rows, cols = lmu.meshgrid_from_sizes(query_emb, ref_emb, dim=0)\n",
    "            output = torch.zeros(rows.size(), dtype=dtype, device=device)\n",
    "            rows, cols = rows.flatten(), cols.flatten()\n",
    "            distances = self.pairwise_distance(query_emb[rows], ref_emb[cols])\n",
    "            output[rows, cols] = distances\n",
    "            return output\n",
    "        else:\n",
    "            return torch.cdist(query_emb, ref_emb, p=self.p)\n",
    "\n",
    "    def pairwise_distance(self, query_emb, ref_emb):\n",
    "        return torch.nn.functional.pairwise_distance(query_emb, ref_emb, p=self.p)"
   ]
  },
  {
   "cell_type": "code",
   "execution_count": 3,
   "metadata": {},
   "outputs": [],
   "source": [
    "z1 = torch.tensor([[1., 2., 3.], [4., 5., 6.]])\n",
    "z2 = torch.tensor([[1., 2., 3.], [6., 6., 6.]])"
   ]
  },
  {
   "cell_type": "code",
   "execution_count": 4,
   "metadata": {},
   "outputs": [
    {
     "name": "stdout",
     "output_type": "stream",
     "text": [
      "tensor([[ 0.0000, 50.0000],\n",
      "        [27.0000,  5.0000]])\n",
      "tensor([3.0000e-12, 5.0000e+00])\n"
     ]
    }
   ],
   "source": [
    "dist = LpDistance(p=2)\n",
    "print(dist.compute_mat(z1, z2)**2)\n",
    "print(dist.pairwise_distance(z1, z2)**2)"
   ]
  },
  {
   "cell_type": "code",
   "execution_count": 9,
   "metadata": {},
   "outputs": [
    {
     "name": "stdout",
     "output_type": "stream",
     "text": [
      "tensor([[0.0000, 7.0711],\n",
      "        [5.1962, 2.2361]])\n",
      "tensor([1.7321e-06, 2.2361e+00])\n",
      "tensor([[0.0000, 7.0711],\n",
      "        [5.1962, 2.2361]])\n",
      "tensor([1.7321e-06, 2.2361e+00])\n"
     ]
    }
   ],
   "source": [
    "dist = LpDistance(p=2)\n",
    "print(dist.compute_mat(z1, z2))\n",
    "print(dist.pairwise_distance(z1, z2))\n",
    "\n",
    "dist = LpDistance(power=5)\n",
    "print(dist.compute_mat(z1, z2))\n",
    "print(dist.pairwise_distance(z1, z2))"
   ]
  },
  {
   "cell_type": "code",
   "execution_count": 27,
   "metadata": {},
   "outputs": [
    {
     "data": {
      "text/plain": [
       "tensor([1.7321e-06, 2.2361e+00])"
      ]
     },
     "execution_count": 27,
     "metadata": {},
     "output_type": "execute_result"
    }
   ],
   "source": [
    "def compute_expected_l2_dist(self, z1_mean, z1_var, z2_mean, z2_var):\n",
    "    mean_diff = z1_mean.unsqueeze(1) - z2_mean\n",
    "    square_difference_of_means = torch.einsum(\"nmd,nmd->nm\", mean_diff, mean_diff)\n",
    "    # E[||z1 - z2||^2] = E[μ1 - μ2]^2 + Tr[Σ1] + Tr[Σ2]\n",
    "    return square_difference_of_means + z1_var.sum() + z2_var.sum()\n"
   ]
  },
  {
   "cell_type": "code",
   "execution_count": 41,
   "metadata": {},
   "outputs": [],
   "source": [
    "import torch\n",
    "from pytorch_metric_learning.distances import BaseDistance, LpDistance\n",
    "from pytorch_metric_learning.utils import loss_and_miner_utils as lmu\n",
    "\n",
    "\n",
    "class ExpectedSquareL2Distance(BaseDistance):\n",
    "    def __init__(self, sample_dim=0, feature_dim=-1, **kwargs):\n",
    "        super().__init__(**kwargs)\n",
    "\n",
    "        self.l2_square_dist = LpDistance(p=2, power=2)\n",
    "        # self.sample_dim = sample_dim\n",
    "        # self.feature_dim = feature_dim\n",
    "\n",
    "    def compute_mat(self, query_emb, ref_emb):\n",
    "        assert len(query_emb.shape) == 3\n",
    "        assert len(ref_emb.shape) == 3\n",
    "\n",
    "        # query_mean = query_emb.mean(dim=self.sample_dim)\n",
    "        # query_var = query_emb.var(dim=self.sample_dim)\n",
    "\n",
    "        # ref_mean = ref_emb.mean(dim=self.sample_dim)\n",
    "        # ref_var = ref_emb.var(dim=self.sample_dim)\n",
    "\n",
    "        query_mean = query_emb[\"mean\"]\n",
    "        query_var = query_emb[\"var\"]\n",
    "\n",
    "        ref_mean = ref_emb[\"mean\"]\n",
    "        ref_var = ref_emb[\"var\"]\n",
    "\n",
    "        return (\n",
    "            self.l2_square_dist.compute_mat(query_mean, ref_mean)\n",
    "            + query_var.sum(dim=self.feature_dim).unsqueeze(1)\n",
    "            + ref_var.sum(dim=self.feature_dim).unsqueeze(0)\n",
    "        )\n",
    "\n",
    "    def pairwise_distance(self, query_emb, ref_emb):\n",
    "        assert len(query_emb.shape) == 3\n",
    "        assert len(ref_emb.shape) == 3\n",
    "\n",
    "        # query_mean = query_emb.mean(dim=self.sample_dim)\n",
    "        # query_var = query_emb.var(dim=self.sample_dim)\n",
    "\n",
    "        # ref_mean = ref_emb.mean(dim=self.sample_dim)\n",
    "        # ref_var = ref_emb.var(dim=self.sample_dim)\n",
    "\n",
    "        query_mean = query_emb[\"mean\"]\n",
    "        query_var = query_emb[\"var\"]\n",
    "\n",
    "        ref_mean = ref_emb[\"mean\"]\n",
    "        ref_var = ref_emb[\"var\"]\n",
    "\n",
    "        return (\n",
    "            self.l2_square_dist.pairwise_distance(query_mean, ref_mean)\n",
    "            + query_var.sum(dim=self.feature_dim)\n",
    "            + ref_var.sum(dim=self.feature_dim)\n",
    "        )"
   ]
  }
 ],
 "metadata": {
  "kernelspec": {
   "display_name": "Python 3.9.6 ('venv': venv)",
   "language": "python",
   "name": "python3"
  },
  "language_info": {
   "codemirror_mode": {
    "name": "ipython",
    "version": 3
   },
   "file_extension": ".py",
   "mimetype": "text/x-python",
   "name": "python",
   "nbconvert_exporter": "python",
   "pygments_lexer": "ipython3",
   "version": "3.9.6"
  },
  "orig_nbformat": 4,
  "vscode": {
   "interpreter": {
    "hash": "d7f6f7ae1d0d89f5315ced80830f7ff4eb6e7d42fafadf9d9a1fa4564148db2c"
   }
  }
 },
 "nbformat": 4,
 "nbformat_minor": 2
}
