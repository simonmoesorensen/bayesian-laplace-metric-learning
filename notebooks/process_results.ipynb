{
 "cells": [
  {
   "cell_type": "code",
   "execution_count": null,
   "metadata": {},
   "outputs": [],
   "source": [
    "import pandas as pd\n",
    "pd.options.display.precision = 4"
   ]
  },
  {
   "cell_type": "code",
   "execution_count": null,
   "metadata": {},
   "outputs": [],
   "source": [
    "df = pd.read_csv(\"../outputs/PostHoc/figures/FashionMNIST/fixed/metrics.csv\",\n",
    "                 header=None,\n",
    "                 names=[\"metric\", \"value\", \"latent_size\"],\n",
    "                 dtype={\"metric\": str, \"value\": float, \"latent_size\": int})\n",
    "\n",
    "df\\\n",
    "    .sort_values(by=[\"latent_size\", \"metric\"])\\\n",
    "    .groupby([\"latent_size\", \"metric\"]).agg([\"mean\", \"std\"])\n",
    "\n",
    "df = df\\\n",
    "    .sort_values(by=[\"latent_size\", \"metric\"])\\\n",
    "    .groupby([\"latent_size\", \"metric\"]).agg([\"mean\", \"std\"])\\\n",
    "\n",
    "df.columns = df.columns.to_flat_index()\n",
    "\n",
    "df = df.assign(val=lambda x: x[(\"value\", \"mean\")].round(4).apply(str) + \" ± \" + x[(\"value\", \"std\")].round(4).apply(str))\\\n",
    "    .drop([(\"value\", \"mean\"), (\"value\", \"std\")], axis=1)\\\n",
    "    .reset_index()\\\n",
    "    .pivot(index=\"latent_size\", columns=\"metric\", values=\"val\")\n",
    "\n",
    "cols = [\"precision_at_1\", \"mean_average_precision\", \"recall_at_k\", \"auroc\", \"auprc\", \"ausc\", \"ece\", \"precision_at_1_expected\", \"mean_average_precision_expected\", \"recall_at_k_expected\"]\n",
    "df[cols]\n"
   ]
  },
  {
   "cell_type": "code",
   "execution_count": null,
   "metadata": {},
   "outputs": [],
   "source": [
    "df = pd.read_csv(\"../outputs/PostHoc/figures/CIFAR10/epoch_1/metrics.csv\",\n",
    "                 header=None,\n",
    "                 names=[\"metric\", \"value\", \"latent_size\"],\n",
    "                 dtype={\"metric\": str, \"value\": float, \"latent_size\": int})\n",
    "\n",
    "df\\\n",
    "    .sort_values(by=[\"latent_size\", \"metric\"])\\\n",
    "    .groupby([\"latent_size\", \"metric\"]).agg([\"mean\", \"std\"])\n",
    "\n",
    "df = df\\\n",
    "    .sort_values(by=[\"latent_size\", \"metric\"])\\\n",
    "    .groupby([\"latent_size\", \"metric\"]).agg([\"mean\", \"std\"])\\\n",
    "\n",
    "df.columns = df.columns.to_flat_index()\n",
    "\n",
    "df = df.assign(val=lambda x: x[(\"value\", \"mean\")].round(4).apply(str) + \" ± \" + x[(\"value\", \"std\")].round(4).apply(str))\\\n",
    "    .drop([(\"value\", \"mean\"), (\"value\", \"std\")], axis=1)\\\n",
    "    .reset_index()\\\n",
    "    .pivot(index=\"latent_size\", columns=\"metric\", values=\"val\")\n",
    "\n",
    "cols = [\"precision_at_1\", \"mean_average_precision\", \"recall_at_k\", \"auroc\", \"auprc\", \"ausc\", \"ece\", \"precision_at_1_expected\", \"mean_average_precision_expected\", \"recall_at_k_expected\"]\n",
    "df[cols]\n"
   ]
  },
  {
   "cell_type": "code",
   "execution_count": null,
   "metadata": {},
   "outputs": [],
   "source": []
  }
 ],
 "metadata": {
  "kernelspec": {
   "display_name": "Python 3.8.11 ('venv': venv)",
   "language": "python",
   "name": "python3"
  },
  "language_info": {
   "codemirror_mode": {
    "name": "ipython",
    "version": 3
   },
   "file_extension": ".py",
   "mimetype": "text/x-python",
   "name": "python",
   "nbconvert_exporter": "python",
   "pygments_lexer": "ipython3",
   "version": "3.8.11"
  },
  "orig_nbformat": 4,
  "vscode": {
   "interpreter": {
    "hash": "b9f1723a001831d523cd1876b56459768eb4c4c68543f3c23c216dc8ca1c484f"
   }
  }
 },
 "nbformat": 4,
 "nbformat_minor": 2
}
