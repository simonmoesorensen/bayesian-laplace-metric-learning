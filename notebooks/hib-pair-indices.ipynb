{
 "cells": [
  {
   "cell_type": "code",
   "execution_count": 1,
   "metadata": {},
   "outputs": [],
   "source": [
    "import torch"
   ]
  },
  {
   "cell_type": "markdown",
   "metadata": {},
   "source": [
    "Based on the illustration below:\n",
    "\n",
    "![hib-pairs.png](hib-pairs.png)"
   ]
  },
  {
   "cell_type": "markdown",
   "metadata": {},
   "source": [
    "Link to illustration: https://excalidraw.com/#json=TgXrlm-7Eg4CGNFICqTXp,I5ByHYLDTZsDBnyNv1pVQQ"
   ]
  },
  {
   "cell_type": "code",
   "execution_count": 58,
   "metadata": {},
   "outputs": [],
   "source": [
    "K = 2\n",
    "\n",
    "y = torch.Tensor([1,2,3])\n",
    "\n",
    "pos_anc = torch.Tensor([0,0])  # label 1, 1\n",
    "pos = torch.Tensor([1,2])  # label 2, 3"
   ]
  },
  {
   "cell_type": "code",
   "execution_count": 59,
   "metadata": {},
   "outputs": [
    {
     "data": {
      "text/plain": [
       "tensor([[1.0000, 2.0000, 3.0000],\n",
       "        [1.1000, 2.1000, 3.1000]])"
      ]
     },
     "execution_count": 59,
     "metadata": {},
     "output_type": "execute_result"
    }
   ],
   "source": [
    "# Mimick sample\n",
    "y_sampled = y.repeat(K, 1)\n",
    "y_sampled[1] += 0.1\n",
    "y_sampled"
   ]
  },
  {
   "cell_type": "code",
   "execution_count": 60,
   "metadata": {},
   "outputs": [
    {
     "data": {
      "text/plain": [
       "tensor([[1.0000, 2.0000, 3.0000],\n",
       "        [1.0000, 2.0000, 3.0000],\n",
       "        [1.1000, 2.1000, 3.1000],\n",
       "        [1.1000, 2.1000, 3.1000]])"
      ]
     },
     "execution_count": 60,
     "metadata": {},
     "output_type": "execute_result"
    }
   ],
   "source": [
    "y_k1 = y_sampled.repeat_interleave(K, dim=0)\n",
    "y_k1"
   ]
  },
  {
   "cell_type": "code",
   "execution_count": 61,
   "metadata": {},
   "outputs": [
    {
     "data": {
      "text/plain": [
       "tensor([[1.0000, 2.0000, 3.0000],\n",
       "        [1.1000, 2.1000, 3.1000],\n",
       "        [1.0000, 2.0000, 3.0000],\n",
       "        [1.1000, 2.1000, 3.1000]])"
      ]
     },
     "execution_count": 61,
     "metadata": {},
     "output_type": "execute_result"
    }
   ],
   "source": [
    "y_k2 = y_sampled.repeat(K, 1)\n",
    "y_k2"
   ]
  },
  {
   "cell_type": "code",
   "execution_count": 62,
   "metadata": {},
   "outputs": [],
   "source": [
    "batch_size = y.shape[0]"
   ]
  },
  {
   "cell_type": "code",
   "execution_count": 112,
   "metadata": {},
   "outputs": [
    {
     "name": "stdout",
     "output_type": "stream",
     "text": [
      "tensor([[1.0000],\n",
      "        [2.0000],\n",
      "        [3.0000],\n",
      "        [1.0000],\n",
      "        [2.0000],\n",
      "        [3.0000],\n",
      "        [1.1000],\n",
      "        [2.1000],\n",
      "        [3.1000],\n",
      "        [1.1000],\n",
      "        [2.1000],\n",
      "        [3.1000]])\n",
      "Anchor idx: [0, 0, 3, 3, 6, 6, 9, 9]\n"
     ]
    }
   ],
   "source": [
    "y_k1_flat = y_k1.view(K**2 * batch_size,1)\n",
    "print(y_k1_flat)\n",
    "\n",
    "print('Anchor idx: [0, 0, 3, 3, 6, 6, 9, 9]')"
   ]
  },
  {
   "cell_type": "code",
   "execution_count": 113,
   "metadata": {},
   "outputs": [
    {
     "name": "stdout",
     "output_type": "stream",
     "text": [
      "tensor([[1.0000],\n",
      "        [2.0000],\n",
      "        [3.0000],\n",
      "        [1.1000],\n",
      "        [2.1000],\n",
      "        [3.1000],\n",
      "        [1.0000],\n",
      "        [2.0000],\n",
      "        [3.0000],\n",
      "        [1.1000],\n",
      "        [2.1000],\n",
      "        [3.1000]])\n",
      "Positive idx: [1, 2, 4, 5, 7, 8, 10, 11]\n"
     ]
    }
   ],
   "source": [
    "y_k2_flat = y_k2.view(K**2 * batch_size,1)\n",
    "print(y_k2_flat)\n",
    "\n",
    "print('Positive idx: [1, 2, 4, 5, 7, 8, 10, 11]')"
   ]
  },
  {
   "cell_type": "code",
   "execution_count": 109,
   "metadata": {},
   "outputs": [
    {
     "data": {
      "text/plain": [
       "tensor([0, 0, 3, 3, 6, 6, 9, 9])"
      ]
     },
     "execution_count": 109,
     "metadata": {},
     "output_type": "execute_result"
    }
   ],
   "source": [
    "batch_step = torch.arange(0, K**2).repeat_interleave(pos.shape[0]) * batch_size\n",
    "batch_step"
   ]
  },
  {
   "cell_type": "code",
   "execution_count": 110,
   "metadata": {},
   "outputs": [
    {
     "data": {
      "text/plain": [
       "tensor([ 1.,  2.,  4.,  5.,  7.,  8., 10., 11.])"
      ]
     },
     "execution_count": 110,
     "metadata": {},
     "output_type": "execute_result"
    }
   ],
   "source": [
    "pos.repeat(K**2) + batch_step"
   ]
  },
  {
   "cell_type": "code",
   "execution_count": 111,
   "metadata": {},
   "outputs": [
    {
     "data": {
      "text/plain": [
       "tensor([0., 0., 3., 3., 6., 6., 9., 9.])"
      ]
     },
     "execution_count": 111,
     "metadata": {},
     "output_type": "execute_result"
    }
   ],
   "source": [
    "pos_anc.repeat(K**2) + batch_step"
   ]
  },
  {
   "cell_type": "code",
   "execution_count": null,
   "metadata": {},
   "outputs": [],
   "source": []
  }
 ],
 "metadata": {
  "kernelspec": {
   "display_name": "Python 3.8.11 ('venv': venv)",
   "language": "python",
   "name": "python3"
  },
  "language_info": {
   "codemirror_mode": {
    "name": "ipython",
    "version": 3
   },
   "file_extension": ".py",
   "mimetype": "text/x-python",
   "name": "python",
   "nbconvert_exporter": "python",
   "pygments_lexer": "ipython3",
   "version": "3.8.11"
  },
  "orig_nbformat": 4,
  "vscode": {
   "interpreter": {
    "hash": "fd77f9260d2b87a896fe7b49aca0aa136485ec7f59e786711ea9b21566f454fa"
   }
  }
 },
 "nbformat": 4,
 "nbformat_minor": 2
}
